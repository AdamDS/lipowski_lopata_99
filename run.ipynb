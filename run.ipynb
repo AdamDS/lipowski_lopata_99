{
 "cells": [
  {
   "cell_type": "markdown",
   "metadata": {},
   "source": [
    "# Lipowski and Lopata 1999\n",
    "\n",
    "https://journals.aps.org/pre/abstract/10.1103/PhysRevE.60.1516\n",
    "\n",
    "Our model is defined on a d-dimensional Cartesian lattice. Each site of the lattice represents a certain species. Moreover, between each pair of neighboring species i and j we introduce an interaction w_i,j (0 < w_i,j < 1), which describes an amount of frustration which the species i and j experience due to their close coexistence. Usually, initial interactions omega_i,j are chosen randomly. Introducing certain threshold parameter r (0 < r < 2d), we define dynamics of our model as follows: 1) Choose a site i at random. 2) Calculate sum_j(w_i,j), where summation is over all nearest neighbors j. 3) If omega < r, then the chosen species, due to too much frustration, becomes extinct and the site becomes occupied by a new species with the interactions w_i,j chosen anew. If omega > r, the species at the site i survives."
   ]
  },
  {
   "cell_type": "code",
   "execution_count": null,
   "metadata": {},
   "outputs": [],
   "source": [
    "from ll_99 import ll_99"
   ]
  },
  {
   "cell_type": "raw",
   "metadata": {},
   "source": [
    "ll_99?"
   ]
  },
  {
   "cell_type": "code",
   "execution_count": null,
   "metadata": {},
   "outputs": [],
   "source": [
    "exp = ll_99(5, 10000, 10, 1, [0.44])"
   ]
  },
  {
   "cell_type": "markdown",
   "metadata": {},
   "source": [
    "# Steady State"
   ]
  },
  {
   "cell_type": "code",
   "execution_count": null,
   "metadata": {},
   "outputs": [],
   "source": [
    "exp.steady_state()"
   ]
  },
  {
   "cell_type": "code",
   "execution_count": null,
   "metadata": {},
   "outputs": [],
   "source": [
    "exp.__dict__"
   ]
  },
  {
   "cell_type": "markdown",
   "metadata": {},
   "source": [
    "# Single Seed"
   ]
  },
  {
   "cell_type": "code",
   "execution_count": null,
   "metadata": {},
   "outputs": [],
   "source": [
    "exp.single_seed()"
   ]
  },
  {
   "cell_type": "code",
   "execution_count": null,
   "metadata": {},
   "outputs": [],
   "source": [
    "exp.__dict__"
   ]
  },
  {
   "cell_type": "code",
   "execution_count": 326,
   "metadata": {},
   "outputs": [],
   "source": [
    "import seaborn as sns\n",
    "import matplotlib.pyplot as plt"
   ]
  },
  {
   "cell_type": "code",
   "execution_count": null,
   "metadata": {},
   "outputs": [],
   "source": [
    "P_t = np.sum(np.array([[0 if x is None else 1 for x in exp.results[i]] for i in range(0, 10)]), axis=0)\n",
    "#P_t"
   ]
  },
  {
   "cell_type": "code",
   "execution_count": null,
   "metadata": {},
   "outputs": [],
   "source": [
    "C = np.divide(np.cumsum(P_t), 100)\n",
    "#C"
   ]
  },
  {
   "cell_type": "raw",
   "metadata": {},
   "source": [
    "import matplotlib.pyplot as plt\n",
    "fig = plt.figure()\n",
    "ax = fig.add_subplot(1, 1, 1)\n",
    "ax.plot(range(0, len(C)), C)\n",
    "ax.set_xscale('log')\n",
    "ax.set_yscale('log')"
   ]
  },
  {
   "cell_type": "raw",
   "metadata": {},
   "source": [
    "sns.kdeplot(frustrations)\n",
    "sns.rugplot(frustrations)"
   ]
  },
  {
   "cell_type": "code",
   "execution_count": null,
   "metadata": {},
   "outputs": [],
   "source": []
  }
 ],
 "metadata": {
  "kernelspec": {
   "display_name": "Python 3",
   "language": "python",
   "name": "python3"
  },
  "language_info": {
   "codemirror_mode": {
    "name": "ipython",
    "version": 3
   },
   "file_extension": ".py",
   "mimetype": "text/x-python",
   "name": "python",
   "nbconvert_exporter": "python",
   "pygments_lexer": "ipython3",
   "version": "3.8.5"
  }
 },
 "nbformat": 4,
 "nbformat_minor": 4
}
